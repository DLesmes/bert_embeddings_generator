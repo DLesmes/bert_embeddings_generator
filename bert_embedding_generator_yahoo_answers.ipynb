{
 "cells": [
  {
   "cell_type": "markdown",
   "metadata": {
    "colab_type": "text",
    "id": "view-in-github"
   },
   "source": [
    "<a href=\"https://colab.research.google.com/github/DLesmes/bert_embeddings_generator/blob/main/bert_embedding_generator.ipynb\" target=\"_parent\"><img src=\"https://colab.research.google.com/assets/colab-badge.svg\" alt=\"Open In Colab\"/></a>"
   ]
  },
  {
   "cell_type": "markdown",
   "metadata": {
    "id": "yrlonGpucxfG"
   },
   "source": [
    "### Requirements"
   ]
  },
  {
   "cell_type": "code",
   "execution_count": 1,
   "metadata": {
    "colab": {
     "base_uri": "https://localhost:8080/"
    },
    "id": "fp0m4YifgqkL",
    "outputId": "8b7d74ec-916b-4e80-e34c-059c6c12e2b6"
   },
   "outputs": [
    {
     "name": "stderr",
     "output_type": "stream",
     "text": [
      "/Users/dlesmesrodri/Documents/bert_embeddings_generator/venv_bert/lib/python3.9/site-packages/urllib3/__init__.py:35: NotOpenSSLWarning: urllib3 v2 only supports OpenSSL 1.1.1+, currently the 'ssl' module is compiled with 'LibreSSL 2.8.3'. See: https://github.com/urllib3/urllib3/issues/3020\n",
      "  warnings.warn(\n",
      "/Users/dlesmesrodri/Documents/bert_embeddings_generator/venv_bert/lib/python3.9/site-packages/tqdm/auto.py:21: TqdmWarning: IProgress not found. Please update jupyter and ipywidgets. See https://ipywidgets.readthedocs.io/en/stable/user_install.html\n",
      "  from .autonotebook import tqdm as notebook_tqdm\n"
     ]
    }
   ],
   "source": [
    "#!pip install datasets\n",
    "# embeddings\n",
    "import torch\n",
    "from torch.utils.data import Dataset, DataLoader\n",
    "from transformers import BertModel, BertTokenizer\n",
    "from concurrent.futures import ThreadPoolExecutor\n",
    "# data\n",
    "from datasets import load_dataset\n",
    "import pandas as pd\n",
    "import numpy as np\n",
    "# nn\n",
    "import torch.nn as nn\n",
    "from sklearn.metrics import accuracy_score\n",
    "import seaborn as sns"
   ]
  },
  {
   "cell_type": "markdown",
   "metadata": {
    "id": "H10ZREd0gt3l"
   },
   "source": [
    "# Embedding Model"
   ]
  },
  {
   "cell_type": "code",
   "execution_count": 2,
   "metadata": {
    "colab": {
     "base_uri": "https://localhost:8080/"
    },
    "id": "WZbrQLsBgvsr",
    "outputId": "ad593b05-a70a-4d53-94f7-76a23a65a3ce"
   },
   "outputs": [],
   "source": [
    "# Choose a suitable pre-trained BERT model\n",
    "model_name = 'bert-base-uncased'\n",
    "\n",
    "# Load the model and tokenizer\n",
    "tokenizer = BertTokenizer.from_pretrained(model_name)\n",
    "embed_model = BertModel.from_pretrained(model_name)"
   ]
  },
  {
   "cell_type": "markdown",
   "metadata": {
    "id": "_tq0U9byhF8X"
   },
   "source": [
    "# Data"
   ]
  },
  {
   "cell_type": "code",
   "execution_count": 3,
   "metadata": {
    "colab": {
     "base_uri": "https://localhost:8080/"
    },
    "id": "LMs-xAAXgkIO",
    "outputId": "1b8f0e6a-5baa-4c32-a984-bd8857f85f41"
   },
   "outputs": [
    {
     "name": "stderr",
     "output_type": "stream",
     "text": [
      "Downloading data: 100%|██████████████████████████████████████████████████████████████████████████████████████████████████████████████████████████████████████████████████| 336M/336M [00:42<00:00, 7.87MB/s]\n",
      "Downloading data: 100%|██████████████████████████████████████████████████████████████████████████████████████████████████████████████████████████████████████████████████| 175M/175M [00:19<00:00, 8.96MB/s]\n",
      "Downloading data: 100%|████████████████████████████████████████████████████████████████████████████████████████████████████████████████████████████████████████████████| 21.9M/21.9M [00:02<00:00, 8.17MB/s]\n",
      "Generating train split: 100%|█████████████████████████████████████████████████████████████████████████████████████████████████████████████████████████| 1400000/1400000 [00:01<00:00, 1070681.17 examples/s]\n",
      "Generating test split: 100%|███████████████████████████████████████████████████████████████████████████████████████████████████████████████████████████████| 60000/60000 [00:00<00:00, 393494.52 examples/s]\n"
     ]
    },
    {
     "data": {
      "text/plain": [
       "DatasetDict({\n",
       "    train: Dataset({\n",
       "        features: ['id', 'topic', 'question_title', 'question_content', 'best_answer'],\n",
       "        num_rows: 1400000\n",
       "    })\n",
       "    test: Dataset({\n",
       "        features: ['id', 'topic', 'question_title', 'question_content', 'best_answer'],\n",
       "        num_rows: 60000\n",
       "    })\n",
       "})"
      ]
     },
     "execution_count": 3,
     "metadata": {},
     "output_type": "execute_result"
    }
   ],
   "source": [
    "dataset = load_dataset(\"yahoo_answers_topics\")\n",
    "dataset"
   ]
  },
  {
   "cell_type": "code",
   "execution_count": 4,
   "metadata": {
    "id": "1U8eWIgyixe6"
   },
   "outputs": [
    {
     "name": "stdout",
     "output_type": "stream",
     "text": [
      "CPU times: user 43.8 s, sys: 1.01 s, total: 44.9 s\n",
      "Wall time: 46.5 s\n"
     ]
    }
   ],
   "source": [
    "%%time\n",
    "data_train = [\n",
    "    {\n",
    "       \"text\" : question['question_title']\n",
    "        + \" \" + question['question_content']\n",
    "        + \" \" + question['best_answer'],\n",
    "          \"result\": question['topic']\n",
    "    }\n",
    "      for question\n",
    "      in dataset['train']\n",
    "]\n",
    "\n",
    "data_test = [\n",
    "    {\n",
    "       \"text\" : question['question_title']\n",
    "        + \" \" + question['question_content']\n",
    "        + \" \" + question['best_answer'],\n",
    "          \"result\": question['topic']\n",
    "    }\n",
    "      for question\n",
    "    in dataset['test']\n",
    "]\n"
   ]
  },
  {
   "cell_type": "code",
   "execution_count": 5,
   "metadata": {
    "colab": {
     "base_uri": "https://localhost:8080/"
    },
    "id": "YiJCQnFilaBr",
    "outputId": "8cdeafb4-a152-439d-cca1-1a914c4aaf26"
   },
   "outputs": [
    {
     "name": "stdout",
     "output_type": "stream",
     "text": [
      "(150000, 2)\n",
      "(75000, 2)\n"
     ]
    }
   ],
   "source": [
    "df_train = pd.DataFrame(data_train)\n",
    "df_test = pd.DataFrame(data_test)\n",
    "df_train = df_train[:150000].copy()\n",
    "df_test = pd.concat([df_test,df_train[-15000:]])\n",
    "dfs = [df_train, df_test]\n",
    "for df in dfs:\n",
    "  print(df.shape)"
   ]
  },
  {
   "cell_type": "code",
   "execution_count": 6,
   "metadata": {
    "colab": {
     "base_uri": "https://localhost:8080/",
     "height": 390
    },
    "id": "yrlzBXrNrU1G",
    "outputId": "c8ea9ad4-f5cf-4fbd-a75c-8568dcf1f929"
   },
   "outputs": [
    {
     "data": {
      "text/html": [
       "<div>\n",
       "<style scoped>\n",
       "    .dataframe tbody tr th:only-of-type {\n",
       "        vertical-align: middle;\n",
       "    }\n",
       "\n",
       "    .dataframe tbody tr th {\n",
       "        vertical-align: top;\n",
       "    }\n",
       "\n",
       "    .dataframe thead th {\n",
       "        text-align: right;\n",
       "    }\n",
       "</style>\n",
       "<table border=\"1\" class=\"dataframe\">\n",
       "  <thead>\n",
       "    <tr style=\"text-align: right;\">\n",
       "      <th></th>\n",
       "      <th>text</th>\n",
       "      <th>result</th>\n",
       "    </tr>\n",
       "  </thead>\n",
       "  <tbody>\n",
       "    <tr>\n",
       "      <th>0</th>\n",
       "      <td>why doesn't an optical mouse work on a glass t...</td>\n",
       "      <td>4</td>\n",
       "    </tr>\n",
       "    <tr>\n",
       "      <th>1</th>\n",
       "      <td>What is the best off-road motorcycle trail ? l...</td>\n",
       "      <td>5</td>\n",
       "    </tr>\n",
       "    <tr>\n",
       "      <th>2</th>\n",
       "      <td>What is Trans Fat? How to reduce that? I heard...</td>\n",
       "      <td>2</td>\n",
       "    </tr>\n",
       "    <tr>\n",
       "      <th>3</th>\n",
       "      <td>How many planes Fedex has? I heard that it is ...</td>\n",
       "      <td>6</td>\n",
       "    </tr>\n",
       "    <tr>\n",
       "      <th>4</th>\n",
       "      <td>In the san francisco bay area, does it make se...</td>\n",
       "      <td>6</td>\n",
       "    </tr>\n",
       "  </tbody>\n",
       "</table>\n",
       "</div>"
      ],
      "text/plain": [
       "                                                text  result\n",
       "0  why doesn't an optical mouse work on a glass t...       4\n",
       "1  What is the best off-road motorcycle trail ? l...       5\n",
       "2  What is Trans Fat? How to reduce that? I heard...       2\n",
       "3  How many planes Fedex has? I heard that it is ...       6\n",
       "4  In the san francisco bay area, does it make se...       6"
      ]
     },
     "execution_count": 6,
     "metadata": {},
     "output_type": "execute_result"
    }
   ],
   "source": [
    "df_train.head()"
   ]
  },
  {
   "cell_type": "code",
   "execution_count": 7,
   "metadata": {
    "colab": {
     "base_uri": "https://localhost:8080/",
     "height": 206
    },
    "id": "lFKyZ-9srXkg",
    "outputId": "fc61d83d-814a-49b2-a30b-abe19a9445d6"
   },
   "outputs": [
    {
     "data": {
      "text/html": [
       "<div>\n",
       "<style scoped>\n",
       "    .dataframe tbody tr th:only-of-type {\n",
       "        vertical-align: middle;\n",
       "    }\n",
       "\n",
       "    .dataframe tbody tr th {\n",
       "        vertical-align: top;\n",
       "    }\n",
       "\n",
       "    .dataframe thead th {\n",
       "        text-align: right;\n",
       "    }\n",
       "</style>\n",
       "<table border=\"1\" class=\"dataframe\">\n",
       "  <thead>\n",
       "    <tr style=\"text-align: right;\">\n",
       "      <th></th>\n",
       "      <th>text</th>\n",
       "      <th>result</th>\n",
       "    </tr>\n",
       "  </thead>\n",
       "  <tbody>\n",
       "    <tr>\n",
       "      <th>0</th>\n",
       "      <td>What makes friendship click? How does the spar...</td>\n",
       "      <td>8</td>\n",
       "    </tr>\n",
       "    <tr>\n",
       "      <th>1</th>\n",
       "      <td>Why does Zebras have stripes? What is the purp...</td>\n",
       "      <td>1</td>\n",
       "    </tr>\n",
       "    <tr>\n",
       "      <th>2</th>\n",
       "      <td>What did the itsy bitsy sipder climb up?  wate...</td>\n",
       "      <td>3</td>\n",
       "    </tr>\n",
       "    <tr>\n",
       "      <th>3</th>\n",
       "      <td>What is the difference between a Bachelors and...</td>\n",
       "      <td>3</td>\n",
       "    </tr>\n",
       "    <tr>\n",
       "      <th>4</th>\n",
       "      <td>Why do women get PMS?  Premenstrual syndrome (...</td>\n",
       "      <td>2</td>\n",
       "    </tr>\n",
       "  </tbody>\n",
       "</table>\n",
       "</div>"
      ],
      "text/plain": [
       "                                                text  result\n",
       "0  What makes friendship click? How does the spar...       8\n",
       "1  Why does Zebras have stripes? What is the purp...       1\n",
       "2  What did the itsy bitsy sipder climb up?  wate...       3\n",
       "3  What is the difference between a Bachelors and...       3\n",
       "4  Why do women get PMS?  Premenstrual syndrome (...       2"
      ]
     },
     "execution_count": 7,
     "metadata": {},
     "output_type": "execute_result"
    }
   ],
   "source": [
    "df_test.head()"
   ]
  },
  {
   "cell_type": "code",
   "execution_count": 8,
   "metadata": {
    "id": "UHEJ9vW7cjtu"
   },
   "outputs": [],
   "source": [
    "def embed(text: str):\n",
    "  # Tokenize and encode the text\n",
    "  inputs = tokenizer(\n",
    "      text,\n",
    "      return_tensors='pt',\n",
    "      truncation=True,\n",
    "      max_length=512\n",
    "  )\n",
    "\n",
    "  # Pass the input through the model (no fine-tuning needed)\n",
    "  with torch.no_grad():\n",
    "      outputs = embed_model(**inputs)\n",
    "\n",
    "  # Extract the embeddings\n",
    "  return outputs.last_hidden_state[:, 0, :][0].float()   # [CLS] token embedding\n",
    "\n",
    "def process_row(row):\n",
    "    return {\n",
    "        \"text\": row[\"text\"],\n",
    "        \"embed\": embed(row[\"text\"])\n",
    "    }"
   ]
  },
  {
   "cell_type": "code",
   "execution_count": null,
   "metadata": {
    "id": "cGo83DJjwSJ1"
   },
   "outputs": [],
   "source": [
    "%%time\n",
    "for df in dfs:\n",
    "  with ThreadPoolExecutor() as executor:\n",
    "    results = []\n",
    "    futures = [\n",
    "      executor.submit(process_row, row)\n",
    "      for _, row\n",
    "      in df.iterrows()\n",
    "    ]\n",
    "    results.extend(f.result() for f in futures)\n",
    "  df_results = pd.DataFrame(results)\n",
    "  df_results.index = df_results['text']\n",
    "  dict_results = df_results['embed'].to_dict()\n",
    "  df['X'] = df['text'].map(dict_results)"
   ]
  },
  {
   "cell_type": "code",
   "execution_count": null,
   "metadata": {
    "id": "zKVE5TEwq4nw"
   },
   "outputs": [],
   "source": [
    "df_train.head()"
   ]
  },
  {
   "cell_type": "code",
   "execution_count": null,
   "metadata": {
    "id": "oOsUoGt8q5TK"
   },
   "outputs": [],
   "source": [
    "df_test.head()"
   ]
  },
  {
   "cell_type": "code",
   "execution_count": null,
   "metadata": {
    "id": "QBZQ3VcPsEMY"
   },
   "outputs": [],
   "source": [
    "len(df_test.X[0])"
   ]
  },
  {
   "cell_type": "code",
   "execution_count": null,
   "metadata": {
    "id": "Sb62Q1UjuI-y"
   },
   "outputs": [],
   "source": [
    "X_train = np.array(df_train.X.tolist())\n",
    "X_test = np.array(df_test.X.tolist())\n",
    "y_train = np.array(df_train.result)\n",
    "y_test = np.array(df_test.result)"
   ]
  },
  {
   "cell_type": "code",
   "execution_count": null,
   "metadata": {
    "id": "foxlaFKCuebN"
   },
   "outputs": [],
   "source": [
    "X_train.shape"
   ]
  },
  {
   "cell_type": "code",
   "execution_count": null,
   "metadata": {
    "id": "GrEPYNAfukFp"
   },
   "outputs": [],
   "source": [
    "X_test.shape"
   ]
  },
  {
   "cell_type": "code",
   "execution_count": null,
   "metadata": {
    "id": "BPJanVm3wziP"
   },
   "outputs": [],
   "source": [
    "y_train.shape"
   ]
  },
  {
   "cell_type": "code",
   "execution_count": null,
   "metadata": {
    "id": "8KgHlC1bwsdb"
   },
   "outputs": [],
   "source": [
    "y_test.shape"
   ]
  },
  {
   "cell_type": "markdown",
   "metadata": {
    "id": "D1kS80Zysm4E"
   },
   "source": [
    "# NN - Model"
   ]
  },
  {
   "cell_type": "code",
   "execution_count": null,
   "metadata": {
    "id": "f2kd2JJEZe-8"
   },
   "outputs": [],
   "source": [
    "y_train.shape[0]"
   ]
  },
  {
   "cell_type": "code",
   "execution_count": null,
   "metadata": {
    "id": "chP6M4pEsSwL"
   },
   "outputs": [],
   "source": [
    "class il_mmlu_data(Dataset):\n",
    "  def __init__(self, X_train, y_train) -> None:\n",
    "        super().__init__()\n",
    "        self.X = X_train\n",
    "        self.y = torch.from_numpy(y_train)\n",
    "        self.y = self.y.type(torch.LongTensor)\n",
    "        self.len = self.X.shape[0]\n",
    "\n",
    "  def __getitem__(self, index):\n",
    "      return self.X[index], self.y[index]\n",
    "\n",
    "  def __len__(self):\n",
    "      return self.len\n"
   ]
  },
  {
   "cell_type": "code",
   "execution_count": null,
   "metadata": {
    "id": "6k400ph8xxjR"
   },
   "outputs": [],
   "source": [
    "# %% dataloader\n",
    "il_mmlu_dataset = il_mmlu_data(X_train=X_train, y_train=y_train)\n",
    "train_loader = DataLoader(dataset=il_mmlu_dataset, batch_size=32)"
   ]
  },
  {
   "cell_type": "code",
   "execution_count": null,
   "metadata": {
    "id": "paOdenFHQUDo"
   },
   "outputs": [],
   "source": [
    "class nn_text_classifier(nn.Module):\n",
    "  def __init__(\n",
    "      self,\n",
    "      num_features,\n",
    "      num_classes,\n",
    "      first_hidden_features,\n",
    "      second_hidden_features\n",
    "  ):\n",
    "    super().__init__()\n",
    "    self.ln1 = nn.Linear(\n",
    "        num_features,\n",
    "        first_hidden_features\n",
    "    )\n",
    "    self.ln2 = nn.Linear(\n",
    "        first_hidden_features,\n",
    "        second_hidden_features\n",
    "    )\n",
    "    self.ln3 = nn.Linear(\n",
    "        second_hidden_features,\n",
    "        num_classes\n",
    "    )\n",
    "    self.log_softmax = nn.LogSoftmax(dim=1)\n",
    "\n",
    "  def forward(self, x):\n",
    "    x = self.ln1(x)\n",
    "    x = torch.sigmoid(x)\n",
    "    x = self.ln2(x)\n",
    "    x = torch.sigmoid(x)\n",
    "    x = self.ln3(x)\n",
    "    x = self.log_softmax(x)\n",
    "    return x\n",
    "\n",
    "\n"
   ]
  },
  {
   "cell_type": "code",
   "execution_count": null,
   "metadata": {
    "id": "l3Toq9nVSF-J"
   },
   "outputs": [],
   "source": [
    "num_features = 768\n",
    "num_classes = 4\n",
    "first_hidden_features = 348\n",
    "second_hidden_features = 192\n",
    "model = nn_text_classifier(\n",
    "    num_features=num_features,\n",
    "    num_classes=num_classes,\n",
    "    first_hidden_features=first_hidden_features,\n",
    "    second_hidden_features=second_hidden_features\n",
    ")"
   ]
  },
  {
   "cell_type": "markdown",
   "metadata": {
    "id": "y3Fw5gDVVTHt"
   },
   "source": [
    "# Train loop"
   ]
  },
  {
   "cell_type": "code",
   "execution_count": null,
   "metadata": {
    "id": "Z1t1AB3HSNbM"
   },
   "outputs": [],
   "source": [
    "criterion = nn.CrossEntropyLoss()\n",
    "lr = 0.1\n",
    "optimizer = torch.optim.SGD(model.parameters(), lr=lr)\n",
    "epochs = 1000"
   ]
  },
  {
   "cell_type": "code",
   "execution_count": null,
   "metadata": {
    "id": "XQ5btj6WV637"
   },
   "outputs": [],
   "source": [
    "%%time\n",
    "losses = []\n",
    "for epoch in range(epochs):\n",
    "  for X, y in train_loader:\n",
    "    optimizer.zero_grad()\n",
    "    output = model(X)\n",
    "    loss = criterion(output, y)\n",
    "    loss.backward()\n",
    "    optimizer.step()\n",
    "  losses.append(float(loss.data.detach().numpy()))"
   ]
  },
  {
   "cell_type": "code",
   "execution_count": null,
   "metadata": {
    "id": "avmT_3wLXOhf"
   },
   "outputs": [],
   "source": [
    "sns.lineplot(x= range(len(losses)), y = losses)"
   ]
  },
  {
   "cell_type": "code",
   "execution_count": null,
   "metadata": {
    "id": "KirbyJecXPZy"
   },
   "outputs": [],
   "source": [
    "# %% test the model\n",
    "X_test_torch = torch.tensor(X_test, dtype=torch.float32)\n",
    "with torch.no_grad():\n",
    "    y_test_hat_softmax = model(X_test_torch)\n",
    "    y_test_hat = torch.max(y_test_hat_softmax.data, 1)"
   ]
  },
  {
   "cell_type": "code",
   "execution_count": null,
   "metadata": {
    "id": "Vy7siG4HXYN-"
   },
   "outputs": [],
   "source": [
    "# %% Accuracy\n",
    "accuracy_score(y_test, y_test_hat.indices)"
   ]
  }
 ],
 "metadata": {
  "accelerator": "GPU",
  "colab": {
   "authorship_tag": "ABX9TyNeK01SI2QlyPWIjiLQBxlM",
   "gpuType": "T4",
   "include_colab_link": true,
   "provenance": []
  },
  "kernelspec": {
   "display_name": "Python 3 (ipykernel)",
   "language": "python",
   "name": "python3"
  },
  "language_info": {
   "codemirror_mode": {
    "name": "ipython",
    "version": 3
   },
   "file_extension": ".py",
   "mimetype": "text/x-python",
   "name": "python",
   "nbconvert_exporter": "python",
   "pygments_lexer": "ipython3",
   "version": "3.9.6"
  }
 },
 "nbformat": 4,
 "nbformat_minor": 4
}
